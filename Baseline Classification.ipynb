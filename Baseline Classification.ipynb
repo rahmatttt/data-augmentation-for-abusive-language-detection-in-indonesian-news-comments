{
 "cells": [
  {
   "cell_type": "code",
   "execution_count": 29,
   "id": "2d7e7c72",
   "metadata": {},
   "outputs": [],
   "source": [
    "import pandas as pd\n",
    "import numpy as np\n",
    "import re\n",
    "\n",
    "import pickle\n",
    "\n",
    "import matplotlib.pyplot as plt\n",
    "\n",
    "import warnings\n",
    "warnings.filterwarnings('ignore')\n",
    "\n",
    "from sklearn.feature_selection import SelectKBest, mutual_info_classif\n",
    "from sklearn.feature_extraction.text import TfidfVectorizer\n",
    "from sklearn.svm import SVC\n",
    "from sklearn.naive_bayes import MultinomialNB\n",
    "from sklearn.linear_model import LogisticRegression\n",
    "from sklearn.pipeline import make_pipeline\n",
    "\n",
    "from sklearn.metrics import accuracy_score,precision_score,recall_score,f1_score,classification_report,confusion_matrix,ConfusionMatrixDisplay\n"
   ]
  },
  {
   "cell_type": "markdown",
   "id": "02ade471",
   "metadata": {},
   "source": [
    "## Load Dataset"
   ]
  },
  {
   "cell_type": "code",
   "execution_count": 2,
   "id": "602d985f",
   "metadata": {},
   "outputs": [],
   "source": [
    "data_train = pd.read_excel(\"Data/data_train.xlsx\")\n",
    "data_test = pd.read_excel(\"Data/data_test.xlsx\")"
   ]
  },
  {
   "cell_type": "code",
   "execution_count": 3,
   "id": "da214bb3",
   "metadata": {},
   "outputs": [],
   "source": [
    "X_train = data_train['Kalimat_prep']\n",
    "y_train = data_train['label']\n",
    "\n",
    "X_test = data_test['Kalimat_prep']\n",
    "y_test = data_test['label']"
   ]
  },
  {
   "cell_type": "markdown",
   "id": "2f28ca90",
   "metadata": {},
   "source": [
    "## Baseline Classification"
   ]
  },
  {
   "cell_type": "code",
   "execution_count": 20,
   "id": "19414aa1",
   "metadata": {},
   "outputs": [
    {
     "data": {
      "text/html": [
       "<style>#sk-container-id-4 {color: black;background-color: white;}#sk-container-id-4 pre{padding: 0;}#sk-container-id-4 div.sk-toggleable {background-color: white;}#sk-container-id-4 label.sk-toggleable__label {cursor: pointer;display: block;width: 100%;margin-bottom: 0;padding: 0.3em;box-sizing: border-box;text-align: center;}#sk-container-id-4 label.sk-toggleable__label-arrow:before {content: \"▸\";float: left;margin-right: 0.25em;color: #696969;}#sk-container-id-4 label.sk-toggleable__label-arrow:hover:before {color: black;}#sk-container-id-4 div.sk-estimator:hover label.sk-toggleable__label-arrow:before {color: black;}#sk-container-id-4 div.sk-toggleable__content {max-height: 0;max-width: 0;overflow: hidden;text-align: left;background-color: #f0f8ff;}#sk-container-id-4 div.sk-toggleable__content pre {margin: 0.2em;color: black;border-radius: 0.25em;background-color: #f0f8ff;}#sk-container-id-4 input.sk-toggleable__control:checked~div.sk-toggleable__content {max-height: 200px;max-width: 100%;overflow: auto;}#sk-container-id-4 input.sk-toggleable__control:checked~label.sk-toggleable__label-arrow:before {content: \"▾\";}#sk-container-id-4 div.sk-estimator input.sk-toggleable__control:checked~label.sk-toggleable__label {background-color: #d4ebff;}#sk-container-id-4 div.sk-label input.sk-toggleable__control:checked~label.sk-toggleable__label {background-color: #d4ebff;}#sk-container-id-4 input.sk-hidden--visually {border: 0;clip: rect(1px 1px 1px 1px);clip: rect(1px, 1px, 1px, 1px);height: 1px;margin: -1px;overflow: hidden;padding: 0;position: absolute;width: 1px;}#sk-container-id-4 div.sk-estimator {font-family: monospace;background-color: #f0f8ff;border: 1px dotted black;border-radius: 0.25em;box-sizing: border-box;margin-bottom: 0.5em;}#sk-container-id-4 div.sk-estimator:hover {background-color: #d4ebff;}#sk-container-id-4 div.sk-parallel-item::after {content: \"\";width: 100%;border-bottom: 1px solid gray;flex-grow: 1;}#sk-container-id-4 div.sk-label:hover label.sk-toggleable__label {background-color: #d4ebff;}#sk-container-id-4 div.sk-serial::before {content: \"\";position: absolute;border-left: 1px solid gray;box-sizing: border-box;top: 0;bottom: 0;left: 50%;z-index: 0;}#sk-container-id-4 div.sk-serial {display: flex;flex-direction: column;align-items: center;background-color: white;padding-right: 0.2em;padding-left: 0.2em;position: relative;}#sk-container-id-4 div.sk-item {position: relative;z-index: 1;}#sk-container-id-4 div.sk-parallel {display: flex;align-items: stretch;justify-content: center;background-color: white;position: relative;}#sk-container-id-4 div.sk-item::before, #sk-container-id-4 div.sk-parallel-item::before {content: \"\";position: absolute;border-left: 1px solid gray;box-sizing: border-box;top: 0;bottom: 0;left: 50%;z-index: -1;}#sk-container-id-4 div.sk-parallel-item {display: flex;flex-direction: column;z-index: 1;position: relative;background-color: white;}#sk-container-id-4 div.sk-parallel-item:first-child::after {align-self: flex-end;width: 50%;}#sk-container-id-4 div.sk-parallel-item:last-child::after {align-self: flex-start;width: 50%;}#sk-container-id-4 div.sk-parallel-item:only-child::after {width: 0;}#sk-container-id-4 div.sk-dashed-wrapped {border: 1px dashed gray;margin: 0 0.4em 0.5em 0.4em;box-sizing: border-box;padding-bottom: 0.4em;background-color: white;}#sk-container-id-4 div.sk-label label {font-family: monospace;font-weight: bold;display: inline-block;line-height: 1.2em;}#sk-container-id-4 div.sk-label-container {text-align: center;}#sk-container-id-4 div.sk-container {/* jupyter's `normalize.less` sets `[hidden] { display: none; }` but bootstrap.min.css set `[hidden] { display: none !important; }` so we also need the `!important` here to be able to override the default hidden behavior on the sphinx rendered scikit-learn.org. See: https://github.com/scikit-learn/scikit-learn/issues/21755 */display: inline-block !important;position: relative;}#sk-container-id-4 div.sk-text-repr-fallback {display: none;}</style><div id=\"sk-container-id-4\" class=\"sk-top-container\"><div class=\"sk-text-repr-fallback\"><pre>Pipeline(steps=[(&#x27;tfidfvectorizer&#x27;, TfidfVectorizer()),\n",
       "                (&#x27;logisticregression&#x27;, LogisticRegression(n_jobs=-1))])</pre><b>In a Jupyter environment, please rerun this cell to show the HTML representation or trust the notebook. <br />On GitHub, the HTML representation is unable to render, please try loading this page with nbviewer.org.</b></div><div class=\"sk-container\" hidden><div class=\"sk-item sk-dashed-wrapped\"><div class=\"sk-label-container\"><div class=\"sk-label sk-toggleable\"><input class=\"sk-toggleable__control sk-hidden--visually\" id=\"sk-estimator-id-6\" type=\"checkbox\" ><label for=\"sk-estimator-id-6\" class=\"sk-toggleable__label sk-toggleable__label-arrow\">Pipeline</label><div class=\"sk-toggleable__content\"><pre>Pipeline(steps=[(&#x27;tfidfvectorizer&#x27;, TfidfVectorizer()),\n",
       "                (&#x27;logisticregression&#x27;, LogisticRegression(n_jobs=-1))])</pre></div></div></div><div class=\"sk-serial\"><div class=\"sk-item\"><div class=\"sk-estimator sk-toggleable\"><input class=\"sk-toggleable__control sk-hidden--visually\" id=\"sk-estimator-id-7\" type=\"checkbox\" ><label for=\"sk-estimator-id-7\" class=\"sk-toggleable__label sk-toggleable__label-arrow\">TfidfVectorizer</label><div class=\"sk-toggleable__content\"><pre>TfidfVectorizer()</pre></div></div></div><div class=\"sk-item\"><div class=\"sk-estimator sk-toggleable\"><input class=\"sk-toggleable__control sk-hidden--visually\" id=\"sk-estimator-id-8\" type=\"checkbox\" ><label for=\"sk-estimator-id-8\" class=\"sk-toggleable__label sk-toggleable__label-arrow\">LogisticRegression</label><div class=\"sk-toggleable__content\"><pre>LogisticRegression(n_jobs=-1)</pre></div></div></div></div></div></div></div>"
      ],
      "text/plain": [
       "Pipeline(steps=[('tfidfvectorizer', TfidfVectorizer()),\n",
       "                ('logisticregression', LogisticRegression(n_jobs=-1))])"
      ]
     },
     "execution_count": 20,
     "metadata": {},
     "output_type": "execute_result"
    }
   ],
   "source": [
    "tfidf_vectorizer = TfidfVectorizer(ngram_range=(1,1))\n",
    "\n",
    "model_svm = SVC(kernel='linear', C=1)\n",
    "model_mnb = MultinomialNB()\n",
    "model_lr = LogisticRegression(n_jobs=-1)\n",
    "\n",
    "pipeline_svm = make_pipeline(tfidf_vectorizer,model_svm)\n",
    "pipeline_mnb = make_pipeline(tfidf_vectorizer,model_mnb)\n",
    "pipeline_lr = make_pipeline(tfidf_vectorizer,model_lr)\n",
    "\n",
    "pipeline_svm.fit(X_train,y_train)\n",
    "pipeline_mnb.fit(X_train,y_train)\n",
    "pipeline_lr.fit(X_train,y_train)"
   ]
  },
  {
   "cell_type": "code",
   "execution_count": 21,
   "id": "2834d019",
   "metadata": {},
   "outputs": [
    {
     "name": "stdout",
     "output_type": "stream",
     "text": [
      "acc SVM :  0.9014675052410901\n",
      "acc MNB :  0.8857442348008385\n",
      "acc LR :  0.889937106918239\n"
     ]
    }
   ],
   "source": [
    "print(\"acc SVM : \",accuracy_score(pipeline_svm.predict(X_test),y_test))\n",
    "print(\"acc MNB : \",accuracy_score(pipeline_mnb.predict(X_test),y_test))\n",
    "print(\"acc LR : \",accuracy_score(pipeline_lr.predict(X_test),y_test))"
   ]
  },
  {
   "cell_type": "code",
   "execution_count": 34,
   "id": "46a76e5b",
   "metadata": {},
   "outputs": [
    {
     "name": "stdout",
     "output_type": "stream",
     "text": [
      "acc SVM :  0.4537049652205296\n",
      "acc MNB :  0.3131369279229201\n",
      "acc LR :  0.35547964305633023\n"
     ]
    }
   ],
   "source": [
    "print(\"acc SVM : \", f1_score(y_test,pipeline_svm.predict(X_test),average='macro'))\n",
    "print(\"acc MNB : \",f1_score(y_test,pipeline_mnb.predict(X_test),average='macro'))\n",
    "print(\"acc LR : \",f1_score(y_test,pipeline_lr.predict(X_test),average='macro'))"
   ]
  },
  {
   "cell_type": "code",
   "execution_count": 35,
   "id": "66e42bc4",
   "metadata": {},
   "outputs": [
    {
     "name": "stdout",
     "output_type": "stream",
     "text": [
      "              precision    recall  f1-score   support\n",
      "\n",
      "           1       0.90      1.00      0.95       845\n",
      "           2       1.00      0.03      0.06        35\n",
      "           3       0.81      0.23      0.36        74\n",
      "\n",
      "    accuracy                           0.90       954\n",
      "   macro avg       0.90      0.42      0.45       954\n",
      "weighted avg       0.90      0.90      0.87       954\n",
      "\n"
     ]
    }
   ],
   "source": [
    "print(classification_report(y_test,pipeline_svm.predict(X_test)))"
   ]
  },
  {
   "cell_type": "code",
   "execution_count": 36,
   "id": "b6e60d5c",
   "metadata": {},
   "outputs": [
    {
     "name": "stdout",
     "output_type": "stream",
     "text": [
      "[[842   0   3]\n",
      " [ 33   1   1]\n",
      " [ 57   0  17]]\n"
     ]
    }
   ],
   "source": [
    "print(confusion_matrix(y_test,pipeline_svm.predict(X_test)))"
   ]
  },
  {
   "cell_type": "code",
   "execution_count": 53,
   "id": "f56ad866",
   "metadata": {},
   "outputs": [
    {
     "data": {
      "image/png": "[encoded data removed]",
      "text/plain": [
       "<Figure size 640x480 with 2 Axes>"
      ]
     },
     "metadata": {},
     "output_type": "display_data"
    }
   ],
   "source": [
    "disp = ConfusionMatrixDisplay(confusion_matrix=confusion_matrix(y_test,pipeline_svm.predict(X_test)),\n",
    "                              display_labels=[\"not abusive\",\"abusive but not offensive\",\"abusive and offensive\"])\n",
    "disp.plot(cmap=plt.cm.Blues)\n",
    "plt.xticks(rotation=45, ha='right')\n",
    "plt.show()"
   ]
  },
  {
   "cell_type": "markdown",
   "id": "ec12d055",
   "metadata": {},
   "source": [
    "## Feature Extraction Experiment"
   ]
  },
  {
   "cell_type": "code",
   "execution_count": 7,
   "id": "efc5a4b5",
   "metadata": {},
   "outputs": [
    {
     "name": "stdout",
     "output_type": "stream",
     "text": [
      "(1, 1) : 0.4537049652205296\n",
      "(1, 2) : 0.42893535229301655\n",
      "(1, 3) : 0.4110808248285787\n",
      "(2, 2) : 0.3492978598828181\n",
      "(2, 3) : 0.3492978598828181\n",
      "(3, 3) : 0.3492978598828181\n"
     ]
    }
   ],
   "source": [
    "ngram = [(1,1),(1,2),(1,3),(2,2),(2,3),(3,3)]\n",
    "\n",
    "for i in ngram:\n",
    "    tfidf_vectorizer = TfidfVectorizer(ngram_range=i)\n",
    "    model_svm = SVC(kernel='linear', C=1)\n",
    "\n",
    "    pipeline_svm = make_pipeline(tfidf_vectorizer,model_svm)\n",
    "    pipeline_svm.fit(X_train,y_train)\n",
    "    \n",
    "    print(f\"{i} : {f1_score(y_test,pipeline_svm.predict(X_test),average='macro')}\")"
   ]
  },
  {
   "cell_type": "code",
   "execution_count": 55,
   "id": "0be865b8",
   "metadata": {},
   "outputs": [
    {
     "name": "stdout",
     "output_type": "stream",
     "text": [
      "(1, 1) : 1680\n",
      "(1, 2) : 13202\n",
      "(1, 3) : 29158\n",
      "(2, 2) : 11522\n",
      "(2, 3) : 27478\n",
      "(3, 3) : 15956\n"
     ]
    }
   ],
   "source": [
    "# HITUNG JUMLAH OOV DI SETIAP NGRAM\n",
    "\n",
    "ngram = [(1,1),(1,2),(1,3),(2,2),(2,3),(3,3)]\n",
    "\n",
    "for i in ngram:\n",
    "    tfidf_vectorizer_train = TfidfVectorizer(ngram_range=i)\n",
    "    tfidf_vectorizer_test = TfidfVectorizer(ngram_range=i)\n",
    "\n",
    "    tfidf_vectorizer_train.fit(X_train)\n",
    "    tfidf_vectorizer_test.fit(X_test)\n",
    "    \n",
    "    feature_train = tfidf_vectorizer_train.get_feature_names_out()\n",
    "    feature_test = tfidf_vectorizer_test.get_feature_names_out()\n",
    "    \n",
    "    OOV = [i for i in feature_test if i not in feature_train]\n",
    "    \n",
    "    print(f\"{i} : {len(OOV)}\")"
   ]
  },
  {
   "cell_type": "markdown",
   "id": "47fffad1",
   "metadata": {},
   "source": [
    "## Feature Selection Experiment"
   ]
  },
  {
   "cell_type": "code",
   "execution_count": 11,
   "id": "c939b497",
   "metadata": {},
   "outputs": [
    {
     "data": {
      "text/html": [
       "<style>#sk-container-id-3 {color: black;background-color: white;}#sk-container-id-3 pre{padding: 0;}#sk-container-id-3 div.sk-toggleable {background-color: white;}#sk-container-id-3 label.sk-toggleable__label {cursor: pointer;display: block;width: 100%;margin-bottom: 0;padding: 0.3em;box-sizing: border-box;text-align: center;}#sk-container-id-3 label.sk-toggleable__label-arrow:before {content: \"▸\";float: left;margin-right: 0.25em;color: #696969;}#sk-container-id-3 label.sk-toggleable__label-arrow:hover:before {color: black;}#sk-container-id-3 div.sk-estimator:hover label.sk-toggleable__label-arrow:before {color: black;}#sk-container-id-3 div.sk-toggleable__content {max-height: 0;max-width: 0;overflow: hidden;text-align: left;background-color: #f0f8ff;}#sk-container-id-3 div.sk-toggleable__content pre {margin: 0.2em;color: black;border-radius: 0.25em;background-color: #f0f8ff;}#sk-container-id-3 input.sk-toggleable__control:checked~div.sk-toggleable__content {max-height: 200px;max-width: 100%;overflow: auto;}#sk-container-id-3 input.sk-toggleable__control:checked~label.sk-toggleable__label-arrow:before {content: \"▾\";}#sk-container-id-3 div.sk-estimator input.sk-toggleable__control:checked~label.sk-toggleable__label {background-color: #d4ebff;}#sk-container-id-3 div.sk-label input.sk-toggleable__control:checked~label.sk-toggleable__label {background-color: #d4ebff;}#sk-container-id-3 input.sk-hidden--visually {border: 0;clip: rect(1px 1px 1px 1px);clip: rect(1px, 1px, 1px, 1px);height: 1px;margin: -1px;overflow: hidden;padding: 0;position: absolute;width: 1px;}#sk-container-id-3 div.sk-estimator {font-family: monospace;background-color: #f0f8ff;border: 1px dotted black;border-radius: 0.25em;box-sizing: border-box;margin-bottom: 0.5em;}#sk-container-id-3 div.sk-estimator:hover {background-color: #d4ebff;}#sk-container-id-3 div.sk-parallel-item::after {content: \"\";width: 100%;border-bottom: 1px solid gray;flex-grow: 1;}#sk-container-id-3 div.sk-label:hover label.sk-toggleable__label {background-color: #d4ebff;}#sk-container-id-3 div.sk-serial::before {content: \"\";position: absolute;border-left: 1px solid gray;box-sizing: border-box;top: 0;bottom: 0;left: 50%;z-index: 0;}#sk-container-id-3 div.sk-serial {display: flex;flex-direction: column;align-items: center;background-color: white;padding-right: 0.2em;padding-left: 0.2em;position: relative;}#sk-container-id-3 div.sk-item {position: relative;z-index: 1;}#sk-container-id-3 div.sk-parallel {display: flex;align-items: stretch;justify-content: center;background-color: white;position: relative;}#sk-container-id-3 div.sk-item::before, #sk-container-id-3 div.sk-parallel-item::before {content: \"\";position: absolute;border-left: 1px solid gray;box-sizing: border-box;top: 0;bottom: 0;left: 50%;z-index: -1;}#sk-container-id-3 div.sk-parallel-item {display: flex;flex-direction: column;z-index: 1;position: relative;background-color: white;}#sk-container-id-3 div.sk-parallel-item:first-child::after {align-self: flex-end;width: 50%;}#sk-container-id-3 div.sk-parallel-item:last-child::after {align-self: flex-start;width: 50%;}#sk-container-id-3 div.sk-parallel-item:only-child::after {width: 0;}#sk-container-id-3 div.sk-dashed-wrapped {border: 1px dashed gray;margin: 0 0.4em 0.5em 0.4em;box-sizing: border-box;padding-bottom: 0.4em;background-color: white;}#sk-container-id-3 div.sk-label label {font-family: monospace;font-weight: bold;display: inline-block;line-height: 1.2em;}#sk-container-id-3 div.sk-label-container {text-align: center;}#sk-container-id-3 div.sk-container {/* jupyter's `normalize.less` sets `[hidden] { display: none; }` but bootstrap.min.css set `[hidden] { display: none !important; }` so we also need the `!important` here to be able to override the default hidden behavior on the sphinx rendered scikit-learn.org. See: https://github.com/scikit-learn/scikit-learn/issues/21755 */display: inline-block !important;position: relative;}#sk-container-id-3 div.sk-text-repr-fallback {display: none;}</style><div id=\"sk-container-id-3\" class=\"sk-top-container\"><div class=\"sk-text-repr-fallback\"><pre>TfidfVectorizer()</pre><b>In a Jupyter environment, please rerun this cell to show the HTML representation or trust the notebook. <br />On GitHub, the HTML representation is unable to render, please try loading this page with nbviewer.org.</b></div><div class=\"sk-container\" hidden><div class=\"sk-item\"><div class=\"sk-estimator sk-toggleable\"><input class=\"sk-toggleable__control sk-hidden--visually\" id=\"sk-estimator-id-5\" type=\"checkbox\" checked><label for=\"sk-estimator-id-5\" class=\"sk-toggleable__label sk-toggleable__label-arrow\">TfidfVectorizer</label><div class=\"sk-toggleable__content\"><pre>TfidfVectorizer()</pre></div></div></div></div></div>"
      ],
      "text/plain": [
       "TfidfVectorizer()"
      ]
     },
     "execution_count": 11,
     "metadata": {},
     "output_type": "execute_result"
    }
   ],
   "source": [
    "tfidf_vectorizer = TfidfVectorizer(ngram_range=(1,1))\n",
    "tfidf_vectorizer.fit(X_train)"
   ]
  },
  {
   "cell_type": "code",
   "execution_count": 15,
   "id": "a7c475b7",
   "metadata": {},
   "outputs": [],
   "source": [
    "num_features = len(tfidf_vectorizer.get_feature_names_out())"
   ]
  },
  {
   "cell_type": "code",
   "execution_count": 17,
   "id": "854fb41c",
   "metadata": {},
   "outputs": [
    {
     "data": {
      "text/plain": [
       "6950"
      ]
     },
     "execution_count": 17,
     "metadata": {},
     "output_type": "execute_result"
    }
   ],
   "source": [
    "num_features"
   ]
  },
  {
   "cell_type": "code",
   "execution_count": 16,
   "id": "e763891c",
   "metadata": {},
   "outputs": [
    {
     "name": "stdout",
     "output_type": "stream",
     "text": [
      "0.1 : 0.44294450777108335\n",
      "0.2 : 0.4366356811612286\n",
      "0.3 : 0.43532359912428303\n",
      "0.4 : 0.4415784712526267\n",
      "0.5 : 0.4415784712526267\n",
      "0.6 : 0.44770423200646015\n",
      "0.7 : 0.44770423200646015\n",
      "0.8 : 0.4537049652205296\n",
      "0.9 : 0.44770423200646015\n"
     ]
    }
   ],
   "source": [
    "mi_selection = [0.1,0.2,0.3,0.4,0.5,0.6,0.7,0.8,0.9]\n",
    "\n",
    "for i in mi_selection:\n",
    "    max_features = int(i*num_features)\n",
    "\n",
    "    tfidf_vectorizer = TfidfVectorizer(ngram_range=(1,1))\n",
    "    mutual_info = SelectKBest(mutual_info_classif, k=max_features)\n",
    "    model_svm = SVC(kernel='linear', C=1)\n",
    "\n",
    "    pipeline_svm = make_pipeline(tfidf_vectorizer,mutual_info,model_svm)\n",
    "\n",
    "    pipeline_svm.fit(X_train,y_train)\n",
    "    \n",
    "    print(f\"{i} : {f1_score(y_test,pipeline_svm.predict(X_test),average='macro')}\")"
   ]
  },
  {
   "cell_type": "markdown",
   "id": "5ba6ed83",
   "metadata": {},
   "source": [
    "## Save Baseline Model"
   ]
  },
  {
   "cell_type": "code",
   "execution_count": 54,
   "id": "f8fb3015",
   "metadata": {},
   "outputs": [
    {
     "name": "stdout",
     "output_type": "stream",
     "text": [
      "maco avg f1_score : 0.4537049652205296\n"
     ]
    }
   ],
   "source": [
    "tfidf_vectorizer = TfidfVectorizer(ngram_range=(1,1))\n",
    "\n",
    "pipeline_svm = make_pipeline(tfidf_vectorizer,model_svm)\n",
    "\n",
    "pipeline_svm.fit(X_train,y_train)\n",
    "\n",
    "print(f\"maco avg f1_score : {f1_score(y_test,pipeline_svm.predict(X_test),average='macro')}\")"
   ]
  },
  {
   "cell_type": "code",
   "execution_count": 19,
   "id": "d94f307d",
   "metadata": {},
   "outputs": [],
   "source": [
    "with open(\"Model/baseline_svm.pkl\",\"wb\") as f:\n",
    "    pickle.dump(pipeline_svm,f)"
   ]
  },
  {
   "cell_type": "code",
   "execution_count": null,
   "id": "dee0bc20",
   "metadata": {},
   "outputs": [],
   "source": []
  }
 ],
 "metadata": {
  "kernelspec": {
   "display_name": "Python 3 (ipykernel)",
   "language": "python",
   "name": "python3"
  },
  "language_info": {
   "codemirror_mode": {
    "name": "ipython",
    "version": 3
   },
   "file_extension": ".py",
   "mimetype": "text/x-python",
   "name": "python",
   "nbconvert_exporter": "python",
   "pygments_lexer": "ipython3",
   "version": "3.11.3"
  }
 },
 "nbformat": 4,
 "nbformat_minor": 5
}
