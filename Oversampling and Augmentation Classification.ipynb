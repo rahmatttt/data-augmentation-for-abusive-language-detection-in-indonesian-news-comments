{
 "cells": [
  {
   "cell_type": "code",
   "execution_count": 139,
   "id": "f5b4968c",
   "metadata": {},
   "outputs": [],
   "source": [
    "import pandas as pd\n",
    "import numpy as np\n",
    "import re\n",
    "\n",
    "import pickle\n",
    "\n",
    "import matplotlib.pyplot as plt\n",
    "\n",
    "import warnings\n",
    "warnings.filterwarnings('ignore')\n",
    "\n",
    "from sklearn.feature_selection import SelectKBest, mutual_info_classif\n",
    "from sklearn.feature_extraction.text import TfidfVectorizer\n",
    "from sklearn.ensemble import RandomForestClassifier\n",
    "from sklearn.svm import SVC\n",
    "from sklearn.pipeline import make_pipeline\n",
    "\n",
    "from imblearn.pipeline import make_pipeline as pipe_imblearn\n",
    "from imblearn.over_sampling import SMOTE\n",
    "\n",
    "from sklearn.metrics import accuracy_score,precision_score,recall_score,f1_score,classification_report,confusion_matrix,ConfusionMatrixDisplay\n"
   ]
  },
  {
   "cell_type": "markdown",
   "id": "f0a960e3",
   "metadata": {},
   "source": [
    "## Load Dataset"
   ]
  },
  {
   "cell_type": "code",
   "execution_count": 133,
   "id": "6709eff9",
   "metadata": {},
   "outputs": [],
   "source": [
    "data_train = pd.read_excel(\"Data/data_train.xlsx\")\n",
    "data_test = pd.read_excel(\"Data/data_test.xlsx\")\n",
    "\n",
    "data_train_ovr = pd.read_excel(\"Data/data_train_oversampling.xlsx\")\n",
    "data_train_sr = pd.read_excel(\"Data/data_train_edasr.xlsx\")\n",
    "data_train_ri = pd.read_excel(\"Data/data_train_edari.xlsx\")\n",
    "data_train_rs = pd.read_excel(\"Data/data_train_edars.xlsx\")\n",
    "data_train_rd = pd.read_excel(\"Data/data_train_edard.xlsx\")\n",
    "data_train_rird = pd.read_excel(\"Data/data_train_edarird.xlsx\")\n",
    "\n",
    "data_train_aug = pd.read_excel(\"Data/data_train_augment.xlsx\")"
   ]
  },
  {
   "cell_type": "code",
   "execution_count": 134,
   "id": "253397bc",
   "metadata": {},
   "outputs": [],
   "source": [
    "X_train = data_train['Kalimat_prep']\n",
    "y_train = data_train['label']\n",
    "\n",
    "X_train_ovr = data_train_ovr['Kalimat_prep']\n",
    "y_train_ovr = data_train_ovr['label']\n",
    "\n",
    "X_train_sr = data_train_sr['Kalimat_prep']\n",
    "y_train_sr = data_train_sr['label']\n",
    "\n",
    "X_train_ri = data_train_ri['Kalimat_prep']\n",
    "y_train_ri = data_train_ri['label']\n",
    "\n",
    "X_train_rs = data_train_rs['Kalimat_prep']\n",
    "y_train_rs = data_train_rs['label']\n",
    "\n",
    "X_train_rd = data_train_rd['Kalimat_prep']\n",
    "y_train_rd = data_train_rd['label']\n",
    "\n",
    "X_train_rird = data_train_rird['Kalimat_prep']\n",
    "y_train_rird = data_train_rird['label']\n",
    "\n",
    "X_train_aug = data_train_aug['Kalimat_prep']\n",
    "y_train_aug = data_train_aug['label']\n",
    "\n",
    "X_test = data_test['Kalimat_prep']\n",
    "y_test = data_test['label']"
   ]
  },
  {
   "cell_type": "markdown",
   "id": "a1257e28",
   "metadata": {},
   "source": [
    "## Oversampling"
   ]
  },
  {
   "cell_type": "markdown",
   "id": "206917bb",
   "metadata": {},
   "source": [
    "### oversampling using EDA"
   ]
  },
  {
   "cell_type": "code",
   "execution_count": 97,
   "id": "b6c6515c",
   "metadata": {},
   "outputs": [
    {
     "name": "stdout",
     "output_type": "stream",
     "text": [
      "maco avg f1_score : 0.4900867052023121\n"
     ]
    }
   ],
   "source": [
    "tfidf_vectorizer = TfidfVectorizer(ngram_range=(1,1))\n",
    "model_svm = SVC(kernel='linear', C=1)\n",
    "\n",
    "pipeline_svm = make_pipeline(tfidf_vectorizer,model_svm)\n",
    "\n",
    "pipeline_svm.fit(X_train_ovr,y_train_ovr)\n",
    "\n",
    "print(f\"maco avg f1_score : {f1_score(pipeline_svm.predict(X_test),y_test,average='macro')}\")"
   ]
  },
  {
   "cell_type": "code",
   "execution_count": 98,
   "id": "baa3607c",
   "metadata": {},
   "outputs": [],
   "source": [
    "with open(\"Model/oversampling_eda_svm.pkl\",\"wb\") as f:\n",
    "    pickle.dump(pipeline_svm,f)"
   ]
  },
  {
   "cell_type": "markdown",
   "id": "c888f1e3",
   "metadata": {},
   "source": [
    "### Oversampling EDA - SR only"
   ]
  },
  {
   "cell_type": "code",
   "execution_count": 114,
   "id": "8e0a3f9d",
   "metadata": {},
   "outputs": [
    {
     "name": "stdout",
     "output_type": "stream",
     "text": [
      "maco avg f1_score : 0.4591142120270284\n"
     ]
    }
   ],
   "source": [
    "tfidf_vectorizer = TfidfVectorizer(ngram_range=(1,1))\n",
    "model_svm = SVC(kernel='linear', C=1)\n",
    "\n",
    "pipeline_svm = make_pipeline(tfidf_vectorizer,model_svm)\n",
    "\n",
    "pipeline_svm.fit(X_train_sr,y_train_sr)\n",
    "\n",
    "print(f\"maco avg f1_score : {f1_score(pipeline_svm.predict(X_test),y_test,average='macro')}\")"
   ]
  },
  {
   "cell_type": "code",
   "execution_count": 115,
   "id": "c7c3cdc0",
   "metadata": {},
   "outputs": [],
   "source": [
    "with open(\"Model/oversampling_edasr_svm.pkl\",\"wb\") as f:\n",
    "    pickle.dump(pipeline_svm,f)"
   ]
  },
  {
   "cell_type": "markdown",
   "id": "ef804e1f",
   "metadata": {},
   "source": [
    "### Oversampling EDA - RI only"
   ]
  },
  {
   "cell_type": "code",
   "execution_count": 126,
   "id": "31d3f51f",
   "metadata": {},
   "outputs": [
    {
     "name": "stdout",
     "output_type": "stream",
     "text": [
      "maco avg f1_score : 0.4953285775074467\n"
     ]
    }
   ],
   "source": [
    "tfidf_vectorizer = TfidfVectorizer(ngram_range=(1,1))\n",
    "model_svm = SVC(kernel='linear', C=1)\n",
    "\n",
    "pipeline_svm = make_pipeline(tfidf_vectorizer,model_svm)\n",
    "\n",
    "pipeline_svm.fit(X_train_ri,y_train_ri)\n",
    "\n",
    "print(f\"maco avg f1_score : {f1_score(pipeline_svm.predict(X_test),y_test,average='macro')}\")"
   ]
  },
  {
   "cell_type": "code",
   "execution_count": 120,
   "id": "fb4915ea",
   "metadata": {},
   "outputs": [],
   "source": [
    "with open(\"Model/oversampling_edari_svm.pkl\",\"wb\") as f:\n",
    "    pickle.dump(pipeline_svm,f)"
   ]
  },
  {
   "cell_type": "markdown",
   "id": "59d0c352",
   "metadata": {},
   "source": [
    "### Oversampling EDA - RS only"
   ]
  },
  {
   "cell_type": "code",
   "execution_count": 129,
   "id": "882090af",
   "metadata": {},
   "outputs": [
    {
     "name": "stdout",
     "output_type": "stream",
     "text": [
      "maco avg f1_score : 0.4743948846776766\n"
     ]
    }
   ],
   "source": [
    "tfidf_vectorizer = TfidfVectorizer(ngram_range=(1,1))\n",
    "model_svm = SVC(kernel='linear', C=1)\n",
    "\n",
    "pipeline_svm = make_pipeline(tfidf_vectorizer,model_svm)\n",
    "\n",
    "pipeline_svm.fit(X_train_rs,y_train_rs)\n",
    "\n",
    "print(f\"maco avg f1_score : {f1_score(pipeline_svm.predict(X_test),y_test,average='macro')}\")"
   ]
  },
  {
   "cell_type": "code",
   "execution_count": 130,
   "id": "291cef69",
   "metadata": {},
   "outputs": [],
   "source": [
    "with open(\"Model/oversampling_edars_svm.pkl\",\"wb\") as f:\n",
    "    pickle.dump(pipeline_svm,f)"
   ]
  },
  {
   "cell_type": "markdown",
   "id": "a5f2bb9b",
   "metadata": {},
   "source": [
    "### Oversampling EDA - RD only"
   ]
  },
  {
   "cell_type": "code",
   "execution_count": 131,
   "id": "bd205740",
   "metadata": {},
   "outputs": [
    {
     "name": "stdout",
     "output_type": "stream",
     "text": [
      "maco avg f1_score : 0.49826206639139664\n"
     ]
    }
   ],
   "source": [
    "tfidf_vectorizer = TfidfVectorizer(ngram_range=(1,1))\n",
    "model_svm = SVC(kernel='linear', C=1)\n",
    "\n",
    "pipeline_svm = make_pipeline(tfidf_vectorizer,model_svm)\n",
    "\n",
    "pipeline_svm.fit(X_train_rd,y_train_rd)\n",
    "\n",
    "print(f\"maco avg f1_score : {f1_score(pipeline_svm.predict(X_test),y_test,average='macro')}\")"
   ]
  },
  {
   "cell_type": "code",
   "execution_count": 132,
   "id": "c483ad48",
   "metadata": {},
   "outputs": [],
   "source": [
    "with open(\"Model/oversampling_edard_svm.pkl\",\"wb\") as f:\n",
    "    pickle.dump(pipeline_svm,f)"
   ]
  },
  {
   "cell_type": "markdown",
   "id": "60301d73",
   "metadata": {},
   "source": [
    "### Oversampling EDA - RI and RD"
   ]
  },
  {
   "cell_type": "code",
   "execution_count": 135,
   "id": "c3e8cee8",
   "metadata": {},
   "outputs": [
    {
     "name": "stdout",
     "output_type": "stream",
     "text": [
      "maco avg f1_score : 0.48789002181178964\n"
     ]
    }
   ],
   "source": [
    "tfidf_vectorizer = TfidfVectorizer(ngram_range=(1,1))\n",
    "model_svm = SVC(kernel='linear', C=1)\n",
    "\n",
    "pipeline_svm = make_pipeline(tfidf_vectorizer,model_svm)\n",
    "\n",
    "pipeline_svm.fit(X_train_rird,y_train_rird)\n",
    "\n",
    "print(f\"maco avg f1_score : {f1_score(pipeline_svm.predict(X_test),y_test,average='macro')}\")"
   ]
  },
  {
   "cell_type": "code",
   "execution_count": 136,
   "id": "de6d5895",
   "metadata": {},
   "outputs": [],
   "source": [
    "with open(\"Model/oversampling_edarird_svm.pkl\",\"wb\") as f:\n",
    "    pickle.dump(pipeline_svm,f)"
   ]
  },
  {
   "cell_type": "markdown",
   "id": "f29b8613",
   "metadata": {},
   "source": [
    "### oversampling using SMOTE"
   ]
  },
  {
   "cell_type": "code",
   "execution_count": 137,
   "id": "f8d00348",
   "metadata": {},
   "outputs": [
    {
     "name": "stdout",
     "output_type": "stream",
     "text": [
      "maco avg f1_score : 0.5144752739909114\n"
     ]
    }
   ],
   "source": [
    "tfidf_vectorizer = TfidfVectorizer(ngram_range=(1,1))\n",
    "smote = SMOTE(random_state=10, n_jobs=-1)\n",
    "model_svm_sm = SVC(kernel='linear', C=1)\n",
    "\n",
    "pipeline_svm_sm = pipe_imblearn(tfidf_vectorizer,smote,model_svm)\n",
    "\n",
    "pipeline_svm_sm.fit(X_train,y_train)\n",
    "\n",
    "print(f\"maco avg f1_score : {f1_score(y_test,pipeline_svm_sm.predict(X_test),average='macro')}\")"
   ]
  },
  {
   "cell_type": "code",
   "execution_count": 107,
   "id": "01208f9f",
   "metadata": {},
   "outputs": [],
   "source": [
    "with open(\"Model/oversampling_smote_svm.pkl\",\"wb\") as f:\n",
    "    pickle.dump(pipeline_svm_sm,f)"
   ]
  },
  {
   "cell_type": "code",
   "execution_count": 140,
   "id": "8551d906",
   "metadata": {},
   "outputs": [
    {
     "data": {
      "image/png": "[encoded data removed]",
      "text/plain": [
       "<Figure size 640x480 with 2 Axes>"
      ]
     },
     "metadata": {},
     "output_type": "display_data"
    }
   ],
   "source": [
    "disp = ConfusionMatrixDisplay(confusion_matrix=confusion_matrix(y_test,pipeline_svm_sm.predict(X_test)),\n",
    "                              display_labels=[\"not abusive\",\"abusive but not offensive\",\"abusive and offensive\"])\n",
    "disp.plot(cmap=plt.cm.Blues)\n",
    "plt.xticks(rotation=45, ha='right')\n",
    "plt.show()"
   ]
  },
  {
   "cell_type": "code",
   "execution_count": 142,
   "id": "18d50577",
   "metadata": {},
   "outputs": [
    {
     "data": {
      "text/plain": [
       "(105, 5)"
      ]
     },
     "execution_count": 142,
     "metadata": {},
     "output_type": "execute_result"
    }
   ],
   "source": [
    "data_test_anl = data_test.copy()\n",
    "data_test_anl['pred'] = pipeline_svm_sm.predict(X_test) #954 rows\n",
    "data_test_anl = data_test_anl[data_test_anl['label']!=data_test_anl['pred']]\n",
    "data_test_anl.shape"
   ]
  },
  {
   "cell_type": "code",
   "execution_count": 147,
   "id": "d164874e",
   "metadata": {},
   "outputs": [],
   "source": [
    "#CEK OOV\n",
    "def oov(text,features):\n",
    "    text_split = text.split(\" \")\n",
    "    oov_ls = [i for i in text_split if i not in features]\n",
    "    return oov_ls\n",
    "\n",
    "data_test_anl['oov'] = data_test_anl['Kalimat_prep'].apply(lambda x: oov(x,pipeline_svm_sm[0].get_feature_names_out()))\n",
    "data_test_anl['num_oov'] = data_test_anl['oov'].apply(lambda x: len(x))"
   ]
  },
  {
   "cell_type": "code",
   "execution_count": 148,
   "id": "cdd972ff",
   "metadata": {},
   "outputs": [
    {
     "data": {
      "text/html": [
       "<div>\n",
       "<style scoped>\n",
       "    .dataframe tbody tr th:only-of-type {\n",
       "        vertical-align: middle;\n",
       "    }\n",
       "\n",
       "    .dataframe tbody tr th {\n",
       "        vertical-align: top;\n",
       "    }\n",
       "\n",
       "    .dataframe thead th {\n",
       "        text-align: right;\n",
       "    }\n",
       "</style>\n",
       "<table border=\"1\" class=\"dataframe\">\n",
       "  <thead>\n",
       "    <tr style=\"text-align: right;\">\n",
       "      <th></th>\n",
       "      <th>index</th>\n",
       "      <th>Kalimat</th>\n",
       "      <th>Kalimat_prep</th>\n",
       "      <th>label</th>\n",
       "      <th>pred</th>\n",
       "      <th>oov</th>\n",
       "      <th>num_oov</th>\n",
       "    </tr>\n",
       "  </thead>\n",
       "  <tbody>\n",
       "    <tr>\n",
       "      <th>3</th>\n",
       "      <td>158</td>\n",
       "      <td>Ngapain beli perusahaan yg mau ambruk dasar dungu</td>\n",
       "      <td>ngapain beli perusahaan yang mau ambruk dasar ...</td>\n",
       "      <td>1</td>\n",
       "      <td>3</td>\n",
       "      <td>[]</td>\n",
       "      <td>0</td>\n",
       "    </tr>\n",
       "    <tr>\n",
       "      <th>4</th>\n",
       "      <td>2183</td>\n",
       "      <td>Bukan lupa lagi judulnya, tapi blaga BUDEK iya...</td>\n",
       "      <td>bukan lupa lagi judulnya tapi blaga budek iya ...</td>\n",
       "      <td>3</td>\n",
       "      <td>1</td>\n",
       "      <td>[judulnya, blaga, budek]</td>\n",
       "      <td>3</td>\n",
       "    </tr>\n",
       "    <tr>\n",
       "      <th>6</th>\n",
       "      <td>482</td>\n",
       "      <td>pengin b*rak tiap liat muka ni orang gw</td>\n",
       "      <td>pengin biasa rak tiap liat muka ni orang gue</td>\n",
       "      <td>3</td>\n",
       "      <td>1</td>\n",
       "      <td>[rak]</td>\n",
       "      <td>1</td>\n",
       "    </tr>\n",
       "    <tr>\n",
       "      <th>12</th>\n",
       "      <td>1331</td>\n",
       "      <td>toket yang ada di pantung, gambar, lukisan.\\ns...</td>\n",
       "      <td>toket yang ada di pantung gambar lukisan semua...</td>\n",
       "      <td>3</td>\n",
       "      <td>1</td>\n",
       "      <td>[pantung, lukisan, yanng, terapkan, ']</td>\n",
       "      <td>5</td>\n",
       "    </tr>\n",
       "    <tr>\n",
       "      <th>21</th>\n",
       "      <td>861</td>\n",
       "      <td>tiket nya di poto, cemilan nya di poto, kursin...</td>\n",
       "      <td>tiket nya di poto cemilan nya di poto kursinya...</td>\n",
       "      <td>3</td>\n",
       "      <td>1</td>\n",
       "      <td>[kursinya, meki]</td>\n",
       "      <td>2</td>\n",
       "    </tr>\n",
       "    <tr>\n",
       "      <th>...</th>\n",
       "      <td>...</td>\n",
       "      <td>...</td>\n",
       "      <td>...</td>\n",
       "      <td>...</td>\n",
       "      <td>...</td>\n",
       "      <td>...</td>\n",
       "      <td>...</td>\n",
       "    </tr>\n",
       "    <tr>\n",
       "      <th>905</th>\n",
       "      <td>3059</td>\n",
       "      <td>lu gila ya. djarum ga usa exploitasi jg uda pa...</td>\n",
       "      <td>lu gila ya djarum ga usa exploitasi juga uda p...</td>\n",
       "      <td>2</td>\n",
       "      <td>1</td>\n",
       "      <td>[]</td>\n",
       "      <td>0</td>\n",
       "    </tr>\n",
       "    <tr>\n",
       "      <th>919</th>\n",
       "      <td>2841</td>\n",
       "      <td>DasaaarÔøΩ oonÔøΩ sama saja atuh mau ada PPÔøΩ...</td>\n",
       "      <td>dasaaar oon sama saja atuh mau ada pulang perg...</td>\n",
       "      <td>1</td>\n",
       "      <td>3</td>\n",
       "      <td>[dasaaar, cuaap]</td>\n",
       "      <td>2</td>\n",
       "    </tr>\n",
       "    <tr>\n",
       "      <th>937</th>\n",
       "      <td>303</td>\n",
       "      <td>Tol mahal tapi hemat bbm, hemat uang makan, he...</td>\n",
       "      <td>tol mahal tapi hemat ' hemat uang makan hemat ...</td>\n",
       "      <td>3</td>\n",
       "      <td>1</td>\n",
       "      <td>[', pijat, makro, terjebak, bani]</td>\n",
       "      <td>5</td>\n",
       "    </tr>\n",
       "    <tr>\n",
       "      <th>941</th>\n",
       "      <td>2031</td>\n",
       "      <td>RIP KPK, Jokowi memble di pemberantasan korups...</td>\n",
       "      <td>rip kpk jokowi memble di pemberantasan korupsi...</td>\n",
       "      <td>3</td>\n",
       "      <td>1</td>\n",
       "      <td>[memble, penegakanan]</td>\n",
       "      <td>2</td>\n",
       "    </tr>\n",
       "    <tr>\n",
       "      <th>944</th>\n",
       "      <td>607</td>\n",
       "      <td>Pantas pemprov DKI tiada kan operasi yustisi,,...</td>\n",
       "      <td>pantas pemprov dki tiada kan operasi yustisi t...</td>\n",
       "      <td>3</td>\n",
       "      <td>1</td>\n",
       "      <td>[operasi, yustisi, bisr]</td>\n",
       "      <td>3</td>\n",
       "    </tr>\n",
       "  </tbody>\n",
       "</table>\n",
       "<p>105 rows × 7 columns</p>\n",
       "</div>"
      ],
      "text/plain": [
       "     index                                            Kalimat  \\\n",
       "3      158  Ngapain beli perusahaan yg mau ambruk dasar dungu   \n",
       "4     2183  Bukan lupa lagi judulnya, tapi blaga BUDEK iya...   \n",
       "6      482            pengin b*rak tiap liat muka ni orang gw   \n",
       "12    1331  toket yang ada di pantung, gambar, lukisan.\\ns...   \n",
       "21     861  tiket nya di poto, cemilan nya di poto, kursin...   \n",
       "..     ...                                                ...   \n",
       "905   3059  lu gila ya. djarum ga usa exploitasi jg uda pa...   \n",
       "919   2841  DasaaarÔøΩ oonÔøΩ sama saja atuh mau ada PPÔøΩ...   \n",
       "937    303  Tol mahal tapi hemat bbm, hemat uang makan, he...   \n",
       "941   2031  RIP KPK, Jokowi memble di pemberantasan korups...   \n",
       "944    607  Pantas pemprov DKI tiada kan operasi yustisi,,...   \n",
       "\n",
       "                                          Kalimat_prep  label  pred  \\\n",
       "3    ngapain beli perusahaan yang mau ambruk dasar ...      1     3   \n",
       "4    bukan lupa lagi judulnya tapi blaga budek iya ...      3     1   \n",
       "6         pengin biasa rak tiap liat muka ni orang gue      3     1   \n",
       "12   toket yang ada di pantung gambar lukisan semua...      3     1   \n",
       "21   tiket nya di poto cemilan nya di poto kursinya...      3     1   \n",
       "..                                                 ...    ...   ...   \n",
       "905  lu gila ya djarum ga usa exploitasi juga uda p...      2     1   \n",
       "919  dasaaar oon sama saja atuh mau ada pulang perg...      1     3   \n",
       "937  tol mahal tapi hemat ' hemat uang makan hemat ...      3     1   \n",
       "941  rip kpk jokowi memble di pemberantasan korupsi...      3     1   \n",
       "944  pantas pemprov dki tiada kan operasi yustisi t...      3     1   \n",
       "\n",
       "                                        oov  num_oov  \n",
       "3                                        []        0  \n",
       "4                  [judulnya, blaga, budek]        3  \n",
       "6                                     [rak]        1  \n",
       "12   [pantung, lukisan, yanng, terapkan, ']        5  \n",
       "21                         [kursinya, meki]        2  \n",
       "..                                      ...      ...  \n",
       "905                                      []        0  \n",
       "919                        [dasaaar, cuaap]        2  \n",
       "937       [', pijat, makro, terjebak, bani]        5  \n",
       "941                   [memble, penegakanan]        2  \n",
       "944                [operasi, yustisi, bisr]        3  \n",
       "\n",
       "[105 rows x 7 columns]"
      ]
     },
     "execution_count": 148,
     "metadata": {},
     "output_type": "execute_result"
    }
   ],
   "source": [
    "data_test_anl"
   ]
  },
  {
   "cell_type": "code",
   "execution_count": 150,
   "id": "5108621b",
   "metadata": {},
   "outputs": [
    {
     "data": {
      "text/plain": [
       "2.4285714285714284"
      ]
     },
     "execution_count": 150,
     "metadata": {},
     "output_type": "execute_result"
    }
   ],
   "source": [
    "data_test_anl['num_oov'].mean()"
   ]
  },
  {
   "cell_type": "code",
   "execution_count": 154,
   "id": "7e261345",
   "metadata": {},
   "outputs": [
    {
     "data": {
      "text/plain": [
       "0.7047619047619048"
      ]
     },
     "execution_count": 154,
     "metadata": {},
     "output_type": "execute_result"
    }
   ],
   "source": [
    "data_test_anl[data_test_anl['num_oov']>0].shape[0]/data_test_anl.shape[0] #74/105"
   ]
  },
  {
   "cell_type": "code",
   "execution_count": 149,
   "id": "5bfb85c2",
   "metadata": {},
   "outputs": [],
   "source": [
    "data_test_anl.to_excel(\"Data/data_missclassify.xlsx\",index=False)"
   ]
  },
  {
   "cell_type": "markdown",
   "id": "2ac6a304",
   "metadata": {},
   "source": [
    "## Augmentation"
   ]
  },
  {
   "cell_type": "code",
   "execution_count": 110,
   "id": "78581c08",
   "metadata": {},
   "outputs": [
    {
     "name": "stdout",
     "output_type": "stream",
     "text": [
      "maco avg f1_score : 0.4795043834216434\n"
     ]
    }
   ],
   "source": [
    "tfidf_vectorizer = TfidfVectorizer(ngram_range=(1,1))\n",
    "model_svm = SVC(kernel='linear', C=1)\n",
    "\n",
    "pipeline_svm = make_pipeline(tfidf_vectorizer,model_svm)\n",
    "\n",
    "pipeline_svm.fit(X_train_aug,y_train_aug)\n",
    "\n",
    "print(f\"maco avg f1_score : {f1_score(pipeline_svm.predict(X_test),y_test,average='macro')}\")"
   ]
  },
  {
   "cell_type": "code",
   "execution_count": 111,
   "id": "ab9ca264",
   "metadata": {},
   "outputs": [],
   "source": [
    "with open(\"Model/aug_eda_svm.pkl\",\"wb\") as f:\n",
    "    pickle.dump(pipeline_svm_sm,f)"
   ]
  },
  {
   "cell_type": "code",
   "execution_count": null,
   "id": "e63b0ae0",
   "metadata": {},
   "outputs": [],
   "source": []
  }
 ],
 "metadata": {
  "kernelspec": {
   "display_name": "Python 3 (ipykernel)",
   "language": "python",
   "name": "python3"
  },
  "language_info": {
   "codemirror_mode": {
    "name": "ipython",
    "version": 3
   },
   "file_extension": ".py",
   "mimetype": "text/x-python",
   "name": "python",
   "nbconvert_exporter": "python",
   "pygments_lexer": "ipython3",
   "version": "3.11.3"
  }
 },
 "nbformat": 4,
 "nbformat_minor": 5
}
