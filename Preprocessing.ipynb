{
 "cells": [
  {
   "cell_type": "code",
   "execution_count": 2,
   "id": "ec4bd6a9",
   "metadata": {},
   "outputs": [],
   "source": [
    "import pandas as pd\n",
    "import numpy as np\n",
    "import re\n",
    "\n",
    "from sklearn.model_selection import train_test_split"
   ]
  },
  {
   "cell_type": "markdown",
   "id": "1a5910f8",
   "metadata": {},
   "source": [
    "## Load Dataset"
   ]
  },
  {
   "cell_type": "code",
   "execution_count": 4,
   "id": "1521b019",
   "metadata": {},
   "outputs": [],
   "source": [
    "data = pd.read_excel(\"Data/Abusive Language Detection on Indonesian Online News Comments Dataset .xlsx\")"
   ]
  },
  {
   "cell_type": "code",
   "execution_count": 5,
   "id": "681b1268",
   "metadata": {},
   "outputs": [
    {
     "data": {
      "text/html": [
       "<div>\n",
       "<style scoped>\n",
       "    .dataframe tbody tr th:only-of-type {\n",
       "        vertical-align: middle;\n",
       "    }\n",
       "\n",
       "    .dataframe tbody tr th {\n",
       "        vertical-align: top;\n",
       "    }\n",
       "\n",
       "    .dataframe thead th {\n",
       "        text-align: right;\n",
       "    }\n",
       "</style>\n",
       "<table border=\"1\" class=\"dataframe\">\n",
       "  <thead>\n",
       "    <tr style=\"text-align: right;\">\n",
       "      <th></th>\n",
       "      <th>Kalimat</th>\n",
       "      <th>label</th>\n",
       "    </tr>\n",
       "  </thead>\n",
       "  <tbody>\n",
       "    <tr>\n",
       "      <th>0</th>\n",
       "      <td>san ente aje yg unboxing Indosat. masa ente ka...</td>\n",
       "      <td>1</td>\n",
       "    </tr>\n",
       "    <tr>\n",
       "      <th>1</th>\n",
       "      <td>‚Å£‚Å£GOBLOK,ngapain beli indosat ? g ada untu...</td>\n",
       "      <td>3</td>\n",
       "    </tr>\n",
       "    <tr>\n",
       "      <th>2</th>\n",
       "      <td>Ngotot mau beli saham indosat kok jika jd pres...</td>\n",
       "      <td>1</td>\n",
       "    </tr>\n",
       "    <tr>\n",
       "      <th>3</th>\n",
       "      <td>Buyback Isat??anda sehat??sdh diminum obatnya?...</td>\n",
       "      <td>1</td>\n",
       "    </tr>\n",
       "    <tr>\n",
       "      <th>4</th>\n",
       "      <td>Saya percaya kalau sama Sandiaga Uno, tapi kal...</td>\n",
       "      <td>1</td>\n",
       "    </tr>\n",
       "  </tbody>\n",
       "</table>\n",
       "</div>"
      ],
      "text/plain": [
       "                                             Kalimat  label\n",
       "0  san ente aje yg unboxing Indosat. masa ente ka...      1\n",
       "1  ‚Å£‚Å£GOBLOK,ngapain beli indosat ? g ada untu...      3\n",
       "2  Ngotot mau beli saham indosat kok jika jd pres...      1\n",
       "3  Buyback Isat??anda sehat??sdh diminum obatnya?...      1\n",
       "4  Saya percaya kalau sama Sandiaga Uno, tapi kal...      1"
      ]
     },
     "execution_count": 5,
     "metadata": {},
     "output_type": "execute_result"
    }
   ],
   "source": [
    "data.head()"
   ]
  },
  {
   "cell_type": "code",
   "execution_count": 6,
   "id": "a63a3855",
   "metadata": {},
   "outputs": [
    {
     "data": {
      "text/plain": [
       "(3184, 2)"
      ]
     },
     "execution_count": 6,
     "metadata": {},
     "output_type": "execute_result"
    }
   ],
   "source": [
    "data.shape"
   ]
  },
  {
   "cell_type": "code",
   "execution_count": 7,
   "id": "315d840a",
   "metadata": {},
   "outputs": [
    {
     "data": {
      "text/plain": [
       "1    2789\n",
       "3     285\n",
       "2     110\n",
       "Name: label, dtype: int64"
      ]
     },
     "execution_count": 7,
     "metadata": {},
     "output_type": "execute_result"
    }
   ],
   "source": [
    "data['label'].value_counts()"
   ]
  },
  {
   "cell_type": "code",
   "execution_count": 92,
   "id": "01b293f0",
   "metadata": {},
   "outputs": [
    {
     "data": {
      "text/plain": [
       "'utekmu cuntellll hahahaha brand nempel dikaos dilarang wakaka lucu lucu..'"
      ]
     },
     "execution_count": 92,
     "metadata": {},
     "output_type": "execute_result"
    }
   ],
   "source": [
    "data[data['label']==3].sample(1)['Kalimat'].values[0]"
   ]
  },
  {
   "cell_type": "markdown",
   "id": "81be08c2",
   "metadata": {},
   "source": [
    "## Preprocess"
   ]
  },
  {
   "cell_type": "code",
   "execution_count": 23,
   "id": "b4544e25",
   "metadata": {},
   "outputs": [],
   "source": [
    "prep_df = data[[\"Kalimat\",\"label\"]].copy()\n",
    "prep_df = prep_df.reset_index()"
   ]
  },
  {
   "cell_type": "code",
   "execution_count": 24,
   "id": "3641cc09",
   "metadata": {},
   "outputs": [
    {
     "name": "stderr",
     "output_type": "stream",
     "text": [
      "C:\\Users\\rahma\\AppData\\Local\\Temp\\ipykernel_19308\\4088594063.py:6: FutureWarning: The default value of regex will change from True to False in a future version.\n",
      "  prep_df['Kalimat_prep'] = prep_df['Kalimat_prep'].str.replace(\"\\\\\\\\n\",\" \")\n",
      "C:\\Users\\rahma\\AppData\\Local\\Temp\\ipykernel_19308\\4088594063.py:8: FutureWarning: The default value of regex will change from True to False in a future version.\n",
      "  prep_df['Kalimat_prep'] = prep_df['Kalimat_prep'].str.replace(\"\\\\\\\\r\",\" \")\n",
      "C:\\Users\\rahma\\AppData\\Local\\Temp\\ipykernel_19308\\4088594063.py:9: FutureWarning: The default value of regex will change from True to False in a future version. In addition, single character regular expressions will *not* be treated as literal strings when regex=True.\n",
      "  prep_df['Kalimat_prep'] = prep_df['Kalimat_prep'].str.replace(\"[\",\"\")\n",
      "C:\\Users\\rahma\\AppData\\Local\\Temp\\ipykernel_19308\\4088594063.py:10: FutureWarning: The default value of regex will change from True to False in a future version. In addition, single character regular expressions will *not* be treated as literal strings when regex=True.\n",
      "  prep_df['Kalimat_prep'] = prep_df['Kalimat_prep'].str.replace(\"]\",\"\")\n",
      "C:\\Users\\rahma\\AppData\\Local\\Temp\\ipykernel_19308\\4088594063.py:11: FutureWarning: The default value of regex will change from True to False in a future version. In addition, single character regular expressions will *not* be treated as literal strings when regex=True.\n",
      "  prep_df['Kalimat_prep'] = prep_df['Kalimat_prep'].str.replace(\"[\",\"\")\n",
      "C:\\Users\\rahma\\AppData\\Local\\Temp\\ipykernel_19308\\4088594063.py:12: FutureWarning: The default value of regex will change from True to False in a future version.\n",
      "  prep_df['Kalimat_prep'] = prep_df['Kalimat_prep'].str.replace(\"\\\\\\\\\",\"\")\n",
      "C:\\Users\\rahma\\AppData\\Local\\Temp\\ipykernel_19308\\4088594063.py:17: FutureWarning: The default value of regex will change from True to False in a future version.\n",
      "  prep_df['Kalimat_prep'] = prep_df['Kalimat_prep'].str.replace(r'''(?i)\\b((?:https|http?://|www\\d{0,3}[.]|[a-z0-9.\\-]+[.][a-z]{2,4}/)(?:[^\\s()<>]+|\\(([^\\s()<>]+|(\\([^\\s()<>]+\\)))*\\))+(?:\\(([^\\s()<>]+|(\\([^\\s()<>]+\\)))*\\)|[^\\s`!()\\[\\]{};:'\".,<>?«»“”‘’]))''', \" \")\n",
      "C:\\Users\\rahma\\AppData\\Local\\Temp\\ipykernel_19308\\4088594063.py:18: FutureWarning: The default value of regex will change from True to False in a future version.\n",
      "  prep_df['Kalimat_prep'] = prep_df['Kalimat_prep'].str.replace(\"\\\\\\\\x[a-zA-z0-9][a-zA-z0-9]\",\"\")\n",
      "C:\\Users\\rahma\\AppData\\Local\\Temp\\ipykernel_19308\\4088594063.py:21: FutureWarning: The default value of regex will change from True to False in a future version.\n",
      "  prep_df['Kalimat_prep'] = prep_df['Kalimat_prep'].str.replace(\"[0-9]\",\"\")\n",
      "C:\\Users\\rahma\\AppData\\Local\\Temp\\ipykernel_19308\\4088594063.py:22: FutureWarning: The default value of regex will change from True to False in a future version.\n",
      "  prep_df['Kalimat_prep'] = prep_df['Kalimat_prep'].str.replace(\"[^A-Za-z]\",\" \")\n",
      "C:\\Users\\rahma\\AppData\\Local\\Temp\\ipykernel_19308\\4088594063.py:23: FutureWarning: The default value of regex will change from True to False in a future version.\n",
      "  prep_df['Kalimat_prep'] = prep_df['Kalimat_prep'].str.replace(r\"\\s+\",\" \")\n"
     ]
    }
   ],
   "source": [
    "#base\n",
    "prep_df['Kalimat_prep'] = prep_df['Kalimat'].astype(str)\n",
    "prep_df['Kalimat_prep'] = prep_df['Kalimat_prep'].str.lower()\n",
    "\n",
    "prep_df['Kalimat_prep'] = prep_df['Kalimat_prep'].str.replace(\"\\n\",\" \")\n",
    "prep_df['Kalimat_prep'] = prep_df['Kalimat_prep'].str.replace(\"\\\\\\\\n\",\" \")\n",
    "prep_df['Kalimat_prep'] = prep_df['Kalimat_prep'].str.replace(\"\\r\",\" \")\n",
    "prep_df['Kalimat_prep'] = prep_df['Kalimat_prep'].str.replace(\"\\\\\\\\r\",\" \")\n",
    "prep_df['Kalimat_prep'] = prep_df['Kalimat_prep'].str.replace(\"[\",\"\")\n",
    "prep_df['Kalimat_prep'] = prep_df['Kalimat_prep'].str.replace(\"]\",\"\")\n",
    "prep_df['Kalimat_prep'] = prep_df['Kalimat_prep'].str.replace(\"[\",\"\")\n",
    "prep_df['Kalimat_prep'] = prep_df['Kalimat_prep'].str.replace(\"\\\\\\\\\",\"\")\n",
    "prep_df['Kalimat_prep'] = prep_df['Kalimat_prep'].str.replace(\"  \",\" \")\n",
    "prep_df['Kalimat_prep'] = prep_df['Kalimat_prep'].str.replace(\"&amp\", \" \")\n",
    "prep_df['Kalimat_prep'] = prep_df['Kalimat_prep'].str.replace(\"&gt\", \" \")\n",
    "prep_df['Kalimat_prep'] = prep_df['Kalimat_prep'].str.replace(\"&lt\", \" \")\n",
    "prep_df['Kalimat_prep'] = prep_df['Kalimat_prep'].str.replace(r'''(?i)\\b((?:https|http?://|www\\d{0,3}[.]|[a-z0-9.\\-]+[.][a-z]{2,4}/)(?:[^\\s()<>]+|\\(([^\\s()<>]+|(\\([^\\s()<>]+\\)))*\\))+(?:\\(([^\\s()<>]+|(\\([^\\s()<>]+\\)))*\\)|[^\\s`!()\\[\\]{};:'\".,<>?«»“”‘’]))''', \" \")\n",
    "prep_df['Kalimat_prep'] = prep_df['Kalimat_prep'].str.replace(\"\\\\\\\\x[a-zA-z0-9][a-zA-z0-9]\",\"\")\n",
    "prep_df['Kalimat_prep'] = prep_df['Kalimat_prep'].str.replace(\"'\",\"\")\n",
    "prep_df['Kalimat_prep'] = prep_df['Kalimat_prep'].str.replace('\"','')\n",
    "prep_df['Kalimat_prep'] = prep_df['Kalimat_prep'].str.replace(\"[0-9]\",\"\")\n",
    "prep_df['Kalimat_prep'] = prep_df['Kalimat_prep'].str.replace(\"[^A-Za-z]\",\" \")\n",
    "prep_df['Kalimat_prep'] = prep_df['Kalimat_prep'].str.replace(r\"\\s+\",\" \")\n",
    "\n",
    "prep_df['Kalimat_prep'] = prep_df['Kalimat_prep'].str.strip()\n",
    "prep_df = prep_df.dropna(axis=0)\n",
    "prep_df = prep_df[prep_df['Kalimat_prep']!=\"\"]"
   ]
  },
  {
   "cell_type": "code",
   "execution_count": 25,
   "id": "13462cbf",
   "metadata": {},
   "outputs": [],
   "source": [
    "#acronym and typos\n",
    "acro_typo = pd.read_excel(\"Data/Acronym Words and Typos .xlsx\")\n",
    "\n",
    "#singkatan dan kata dasar\n",
    "singkatan = pd.read_excel(\"Data/kumpulan_singkatan_dan_kata_dasar.xls\",header=None,names=['kata','kata sebenarnya'])\n",
    "\n",
    "#normalize_dict\n",
    "norm_dict = pd.concat([acro_typo,singkatan])\n",
    "\n",
    "stdword = norm_dict['kata sebenarnya'].values.tolist()\n",
    "nonstdword = norm_dict['kata'].values.tolist()"
   ]
  },
  {
   "cell_type": "code",
   "execution_count": 93,
   "id": "9fa15e83",
   "metadata": {},
   "outputs": [
    {
     "data": {
      "text/plain": [
       "(698, 2)"
      ]
     },
     "execution_count": 93,
     "metadata": {},
     "output_type": "execute_result"
    }
   ],
   "source": [
    "acro_typo.shape"
   ]
  },
  {
   "cell_type": "code",
   "execution_count": 94,
   "id": "327a36c3",
   "metadata": {},
   "outputs": [
    {
     "data": {
      "text/plain": [
       "(214, 2)"
      ]
     },
     "execution_count": 94,
     "metadata": {},
     "output_type": "execute_result"
    }
   ],
   "source": [
    "singkatan.shape"
   ]
  },
  {
   "cell_type": "code",
   "execution_count": 99,
   "id": "1c5fcdf8",
   "metadata": {},
   "outputs": [
    {
     "data": {
      "text/html": [
       "<div>\n",
       "<style scoped>\n",
       "    .dataframe tbody tr th:only-of-type {\n",
       "        vertical-align: middle;\n",
       "    }\n",
       "\n",
       "    .dataframe tbody tr th {\n",
       "        vertical-align: top;\n",
       "    }\n",
       "\n",
       "    .dataframe thead th {\n",
       "        text-align: right;\n",
       "    }\n",
       "</style>\n",
       "<table border=\"1\" class=\"dataframe\">\n",
       "  <thead>\n",
       "    <tr style=\"text-align: right;\">\n",
       "      <th></th>\n",
       "      <th>kata</th>\n",
       "      <th>kata sebenarnya</th>\n",
       "    </tr>\n",
       "  </thead>\n",
       "  <tbody>\n",
       "    <tr>\n",
       "      <th>0</th>\n",
       "      <td>kegiatn</td>\n",
       "      <td>kegiatan</td>\n",
       "    </tr>\n",
       "    <tr>\n",
       "      <th>1</th>\n",
       "      <td>trmasuk</td>\n",
       "      <td>termasuk</td>\n",
       "    </tr>\n",
       "    <tr>\n",
       "      <th>2</th>\n",
       "      <td>skalian</td>\n",
       "      <td>sekalian</td>\n",
       "    </tr>\n",
       "    <tr>\n",
       "      <th>3</th>\n",
       "      <td>hadehhh</td>\n",
       "      <td>hadeh</td>\n",
       "    </tr>\n",
       "    <tr>\n",
       "      <th>4</th>\n",
       "      <td>jelasssss</td>\n",
       "      <td>jelas</td>\n",
       "    </tr>\n",
       "    <tr>\n",
       "      <th>5</th>\n",
       "      <td>ajaa</td>\n",
       "      <td>aja</td>\n",
       "    </tr>\n",
       "    <tr>\n",
       "      <th>6</th>\n",
       "      <td>didlm</td>\n",
       "      <td>didalam</td>\n",
       "    </tr>\n",
       "    <tr>\n",
       "      <th>7</th>\n",
       "      <td>krna</td>\n",
       "      <td>karena</td>\n",
       "    </tr>\n",
       "    <tr>\n",
       "      <th>8</th>\n",
       "      <td>looo</td>\n",
       "      <td>lo</td>\n",
       "    </tr>\n",
       "    <tr>\n",
       "      <th>9</th>\n",
       "      <td>seh</td>\n",
       "      <td>sih</td>\n",
       "    </tr>\n",
       "  </tbody>\n",
       "</table>\n",
       "</div>"
      ],
      "text/plain": [
       "        kata kata sebenarnya\n",
       "0    kegiatn        kegiatan\n",
       "1    trmasuk        termasuk\n",
       "2    skalian        sekalian\n",
       "3    hadehhh           hadeh\n",
       "4  jelasssss           jelas\n",
       "5       ajaa             aja\n",
       "6      didlm         didalam\n",
       "7       krna          karena\n",
       "8       looo              lo\n",
       "9        seh             sih"
      ]
     },
     "execution_count": 99,
     "metadata": {},
     "output_type": "execute_result"
    }
   ],
   "source": [
    "acro_typo.head(10)"
   ]
  },
  {
   "cell_type": "code",
   "execution_count": 26,
   "id": "b6ff6eb2",
   "metadata": {},
   "outputs": [],
   "source": [
    "def normalize_text(text, stdword_, nonstdword_):\n",
    "    text = text.split(\" \")\n",
    "    for i in range(len(text)):\n",
    "        if text[i] in nonstdword_:\n",
    "            index = nonstdword_.index(text[i])\n",
    "            text[i] = stdword_[index]\n",
    "    return ' '.join(map(str, text))\n",
    "\n",
    "prep_df['Kalimat_prep'] = prep_df['Kalimat_prep'].apply(lambda x: normalize_text(x,stdword,nonstdword))"
   ]
  },
  {
   "cell_type": "code",
   "execution_count": 27,
   "id": "2e80e34a",
   "metadata": {},
   "outputs": [
    {
     "data": {
      "text/html": [
       "<div>\n",
       "<style scoped>\n",
       "    .dataframe tbody tr th:only-of-type {\n",
       "        vertical-align: middle;\n",
       "    }\n",
       "\n",
       "    .dataframe tbody tr th {\n",
       "        vertical-align: top;\n",
       "    }\n",
       "\n",
       "    .dataframe thead th {\n",
       "        text-align: right;\n",
       "    }\n",
       "</style>\n",
       "<table border=\"1\" class=\"dataframe\">\n",
       "  <thead>\n",
       "    <tr style=\"text-align: right;\">\n",
       "      <th></th>\n",
       "      <th>index</th>\n",
       "      <th>Kalimat</th>\n",
       "      <th>label</th>\n",
       "      <th>Kalimat_prep</th>\n",
       "    </tr>\n",
       "  </thead>\n",
       "  <tbody>\n",
       "    <tr>\n",
       "      <th>0</th>\n",
       "      <td>0</td>\n",
       "      <td>san ente aje yg unboxing Indosat. masa ente ka...</td>\n",
       "      <td>1</td>\n",
       "      <td>santai kamu aja yang unboxing indosat masa kam...</td>\n",
       "    </tr>\n",
       "    <tr>\n",
       "      <th>1</th>\n",
       "      <td>1</td>\n",
       "      <td>‚Å£‚Å£GOBLOK,ngapain beli indosat ? g ada untu...</td>\n",
       "      <td>3</td>\n",
       "      <td>goblok ngapain beli indosat tidak ada untungny...</td>\n",
       "    </tr>\n",
       "    <tr>\n",
       "      <th>2</th>\n",
       "      <td>2</td>\n",
       "      <td>Ngotot mau beli saham indosat kok jika jd pres...</td>\n",
       "      <td>1</td>\n",
       "      <td>ngotot mau beli saham indosat kok jika jadi pr...</td>\n",
       "    </tr>\n",
       "    <tr>\n",
       "      <th>3</th>\n",
       "      <td>3</td>\n",
       "      <td>Buyback Isat??anda sehat??sdh diminum obatnya?...</td>\n",
       "      <td>1</td>\n",
       "      <td>buyback isat anda sehat sudah diminum obatnya ...</td>\n",
       "    </tr>\n",
       "    <tr>\n",
       "      <th>4</th>\n",
       "      <td>4</td>\n",
       "      <td>Saya percaya kalau sama Sandiaga Uno, tapi kal...</td>\n",
       "      <td>1</td>\n",
       "      <td>saya percaya kalau sama sandiaga uno tapi kala...</td>\n",
       "    </tr>\n",
       "    <tr>\n",
       "      <th>...</th>\n",
       "      <td>...</td>\n",
       "      <td>...</td>\n",
       "      <td>...</td>\n",
       "      <td>...</td>\n",
       "    </tr>\n",
       "    <tr>\n",
       "      <th>3179</th>\n",
       "      <td>3179</td>\n",
       "      <td>hentikan aja, ngapai2n audisi2an, pantesa boca...</td>\n",
       "      <td>1</td>\n",
       "      <td>hentikan aja ngapain audisian pantesa boca kon...</td>\n",
       "    </tr>\n",
       "    <tr>\n",
       "      <th>3180</th>\n",
       "      <td>3180</td>\n",
       "      <td>Ini gerombolan orang2 yang mau meruntuhkan bib...</td>\n",
       "      <td>1</td>\n",
       "      <td>ini gerombolan orang yang mau meruntuhkan bibi...</td>\n",
       "    </tr>\n",
       "    <tr>\n",
       "      <th>3181</th>\n",
       "      <td>3181</td>\n",
       "      <td>KPAI isinya org bodoh ya.gmana pd djarum ga me...</td>\n",
       "      <td>3</td>\n",
       "      <td>kpai isinya org bodoh ya gimana padahal djarum...</td>\n",
       "    </tr>\n",
       "    <tr>\n",
       "      <th>3182</th>\n",
       "      <td>3182</td>\n",
       "      <td>Kpai idak ada gunanya. #bubarkan KPAI</td>\n",
       "      <td>1</td>\n",
       "      <td>kpai idak ada gunanya bubarkan kpai</td>\n",
       "    </tr>\n",
       "    <tr>\n",
       "      <th>3183</th>\n",
       "      <td>3183</td>\n",
       "      <td>Bubarkan KPAI...!!! kumpulan manusia manusia t...</td>\n",
       "      <td>3</td>\n",
       "      <td>bubarkan kpai kumpulan manusia manusia tolol y...</td>\n",
       "    </tr>\n",
       "  </tbody>\n",
       "</table>\n",
       "<p>3179 rows × 4 columns</p>\n",
       "</div>"
      ],
      "text/plain": [
       "      index                                            Kalimat  label  \\\n",
       "0         0  san ente aje yg unboxing Indosat. masa ente ka...      1   \n",
       "1         1  ‚Å£‚Å£GOBLOK,ngapain beli indosat ? g ada untu...      3   \n",
       "2         2  Ngotot mau beli saham indosat kok jika jd pres...      1   \n",
       "3         3  Buyback Isat??anda sehat??sdh diminum obatnya?...      1   \n",
       "4         4  Saya percaya kalau sama Sandiaga Uno, tapi kal...      1   \n",
       "...     ...                                                ...    ...   \n",
       "3179   3179  hentikan aja, ngapai2n audisi2an, pantesa boca...      1   \n",
       "3180   3180  Ini gerombolan orang2 yang mau meruntuhkan bib...      1   \n",
       "3181   3181  KPAI isinya org bodoh ya.gmana pd djarum ga me...      3   \n",
       "3182   3182              Kpai idak ada gunanya. #bubarkan KPAI      1   \n",
       "3183   3183  Bubarkan KPAI...!!! kumpulan manusia manusia t...      3   \n",
       "\n",
       "                                           Kalimat_prep  \n",
       "0     santai kamu aja yang unboxing indosat masa kam...  \n",
       "1     goblok ngapain beli indosat tidak ada untungny...  \n",
       "2     ngotot mau beli saham indosat kok jika jadi pr...  \n",
       "3     buyback isat anda sehat sudah diminum obatnya ...  \n",
       "4     saya percaya kalau sama sandiaga uno tapi kala...  \n",
       "...                                                 ...  \n",
       "3179  hentikan aja ngapain audisian pantesa boca kon...  \n",
       "3180  ini gerombolan orang yang mau meruntuhkan bibi...  \n",
       "3181  kpai isinya org bodoh ya gimana padahal djarum...  \n",
       "3182                kpai idak ada gunanya bubarkan kpai  \n",
       "3183  bubarkan kpai kumpulan manusia manusia tolol y...  \n",
       "\n",
       "[3179 rows x 4 columns]"
      ]
     },
     "execution_count": 27,
     "metadata": {},
     "output_type": "execute_result"
    }
   ],
   "source": [
    "prep_df"
   ]
  },
  {
   "cell_type": "markdown",
   "id": "fd7499aa",
   "metadata": {},
   "source": [
    "## Train Test Split"
   ]
  },
  {
   "cell_type": "code",
   "execution_count": 28,
   "id": "6298352d",
   "metadata": {},
   "outputs": [],
   "source": [
    "# TRAIN TEST SPLIT\n",
    "X = prep_df.drop(\"label\",axis=1)\n",
    "y = prep_df['label']\n",
    "\n",
    "X_train, X_test, y_train, y_test = train_test_split(X, y, test_size=0.30, random_state=8)\n",
    "\n",
    "data_train = X_train.copy()\n",
    "data_train['label'] = y_train\n",
    "data_train = data_train.reset_index(drop=True)\n",
    "\n",
    "data_test = X_test.copy()\n",
    "data_test['label'] = y_test\n",
    "data_test = data_test.reset_index(drop=True)"
   ]
  },
  {
   "cell_type": "code",
   "execution_count": 30,
   "id": "1a39b2c1",
   "metadata": {},
   "outputs": [
    {
     "data": {
      "text/html": [
       "<div>\n",
       "<style scoped>\n",
       "    .dataframe tbody tr th:only-of-type {\n",
       "        vertical-align: middle;\n",
       "    }\n",
       "\n",
       "    .dataframe tbody tr th {\n",
       "        vertical-align: top;\n",
       "    }\n",
       "\n",
       "    .dataframe thead th {\n",
       "        text-align: right;\n",
       "    }\n",
       "</style>\n",
       "<table border=\"1\" class=\"dataframe\">\n",
       "  <thead>\n",
       "    <tr style=\"text-align: right;\">\n",
       "      <th></th>\n",
       "      <th>index</th>\n",
       "      <th>Kalimat</th>\n",
       "      <th>Kalimat_prep</th>\n",
       "      <th>label</th>\n",
       "    </tr>\n",
       "  </thead>\n",
       "  <tbody>\n",
       "    <tr>\n",
       "      <th>0</th>\n",
       "      <td>986</td>\n",
       "      <td>Esia yang terlupakan \\nGak kayak Smartfren sih...</td>\n",
       "      <td>esia yang terlupakan gak kayak smartfren sih y...</td>\n",
       "      <td>1</td>\n",
       "    </tr>\n",
       "    <tr>\n",
       "      <th>1</th>\n",
       "      <td>2670</td>\n",
       "      <td>Kalau menurut saya, oknum KPAI yg cari panggun...</td>\n",
       "      <td>kalau menurut saya oknum kpai yang cari panggu...</td>\n",
       "      <td>1</td>\n",
       "    </tr>\n",
       "    <tr>\n",
       "      <th>2</th>\n",
       "      <td>1169</td>\n",
       "      <td>KUHP .. Kasih Uang Habis Perkara</td>\n",
       "      <td>kuhp kasih uang habis perkara</td>\n",
       "      <td>1</td>\n",
       "    </tr>\n",
       "    <tr>\n",
       "      <th>3</th>\n",
       "      <td>880</td>\n",
       "      <td>Kok boleh ngerekam? Bukannya xxi ada camera in...</td>\n",
       "      <td>kok boleh ngerekam bukannya xxi ada camera inf...</td>\n",
       "      <td>1</td>\n",
       "    </tr>\n",
       "    <tr>\n",
       "      <th>4</th>\n",
       "      <td>2701</td>\n",
       "      <td>Djarum kudus lgsg menghentikan bingung juga kp...</td>\n",
       "      <td>djarum kudus langsung menghentikan bingung jug...</td>\n",
       "      <td>1</td>\n",
       "    </tr>\n",
       "  </tbody>\n",
       "</table>\n",
       "</div>"
      ],
      "text/plain": [
       "   index                                            Kalimat  \\\n",
       "0    986  Esia yang terlupakan \\nGak kayak Smartfren sih...   \n",
       "1   2670  Kalau menurut saya, oknum KPAI yg cari panggun...   \n",
       "2   1169                   KUHP .. Kasih Uang Habis Perkara   \n",
       "3    880  Kok boleh ngerekam? Bukannya xxi ada camera in...   \n",
       "4   2701  Djarum kudus lgsg menghentikan bingung juga kp...   \n",
       "\n",
       "                                        Kalimat_prep  label  \n",
       "0  esia yang terlupakan gak kayak smartfren sih y...      1  \n",
       "1  kalau menurut saya oknum kpai yang cari panggu...      1  \n",
       "2                      kuhp kasih uang habis perkara      1  \n",
       "3  kok boleh ngerekam bukannya xxi ada camera inf...      1  \n",
       "4  djarum kudus langsung menghentikan bingung jug...      1  "
      ]
     },
     "execution_count": 30,
     "metadata": {},
     "output_type": "execute_result"
    }
   ],
   "source": [
    "data_train.head()"
   ]
  },
  {
   "cell_type": "code",
   "execution_count": 31,
   "id": "765ea132",
   "metadata": {},
   "outputs": [
    {
     "data": {
      "text/html": [
       "<div>\n",
       "<style scoped>\n",
       "    .dataframe tbody tr th:only-of-type {\n",
       "        vertical-align: middle;\n",
       "    }\n",
       "\n",
       "    .dataframe tbody tr th {\n",
       "        vertical-align: top;\n",
       "    }\n",
       "\n",
       "    .dataframe thead th {\n",
       "        text-align: right;\n",
       "    }\n",
       "</style>\n",
       "<table border=\"1\" class=\"dataframe\">\n",
       "  <thead>\n",
       "    <tr style=\"text-align: right;\">\n",
       "      <th></th>\n",
       "      <th>index</th>\n",
       "      <th>Kalimat</th>\n",
       "      <th>Kalimat_prep</th>\n",
       "      <th>label</th>\n",
       "    </tr>\n",
       "  </thead>\n",
       "  <tbody>\n",
       "    <tr>\n",
       "      <th>0</th>\n",
       "      <td>1269</td>\n",
       "      <td>justru KPAI sih yg harusnya sblm ngasih surat ...</td>\n",
       "      <td>justru kpai sih yang harusnya sebelum ngasih s...</td>\n",
       "      <td>1</td>\n",
       "    </tr>\n",
       "    <tr>\n",
       "      <th>1</th>\n",
       "      <td>2333</td>\n",
       "      <td>Jadi masih ada aturan lain yg lebih esensi utk...</td>\n",
       "      <td>jadi masih ada aturan lain yang lebih esensi u...</td>\n",
       "      <td>1</td>\n",
       "    </tr>\n",
       "    <tr>\n",
       "      <th>2</th>\n",
       "      <td>2419</td>\n",
       "      <td>pikiran KPAI kagak nyambung....pendek buanget....</td>\n",
       "      <td>pikiran kpai kagak nyambung pendek buanget kok...</td>\n",
       "      <td>1</td>\n",
       "    </tr>\n",
       "    <tr>\n",
       "      <th>3</th>\n",
       "      <td>158</td>\n",
       "      <td>Ngapain beli perusahaan yg mau ambruk dasar dungu</td>\n",
       "      <td>ngapain beli perusahaan yang mau ambruk dasar ...</td>\n",
       "      <td>1</td>\n",
       "    </tr>\n",
       "    <tr>\n",
       "      <th>4</th>\n",
       "      <td>2183</td>\n",
       "      <td>Bukan lupa lagi judulnya, tapi blaga BUDEK iya...</td>\n",
       "      <td>bukan lupa lagi judulnya tapi blaga budek iya ...</td>\n",
       "      <td>3</td>\n",
       "    </tr>\n",
       "  </tbody>\n",
       "</table>\n",
       "</div>"
      ],
      "text/plain": [
       "   index                                            Kalimat  \\\n",
       "0   1269  justru KPAI sih yg harusnya sblm ngasih surat ...   \n",
       "1   2333  Jadi masih ada aturan lain yg lebih esensi utk...   \n",
       "2   2419  pikiran KPAI kagak nyambung....pendek buanget....   \n",
       "3    158  Ngapain beli perusahaan yg mau ambruk dasar dungu   \n",
       "4   2183  Bukan lupa lagi judulnya, tapi blaga BUDEK iya...   \n",
       "\n",
       "                                        Kalimat_prep  label  \n",
       "0  justru kpai sih yang harusnya sebelum ngasih s...      1  \n",
       "1  jadi masih ada aturan lain yang lebih esensi u...      1  \n",
       "2  pikiran kpai kagak nyambung pendek buanget kok...      1  \n",
       "3  ngapain beli perusahaan yang mau ambruk dasar ...      1  \n",
       "4  bukan lupa lagi judulnya tapi blaga budek iya ...      3  "
      ]
     },
     "execution_count": 31,
     "metadata": {},
     "output_type": "execute_result"
    }
   ],
   "source": [
    "data_test.head()"
   ]
  },
  {
   "cell_type": "code",
   "execution_count": 32,
   "id": "9ce2b64e",
   "metadata": {},
   "outputs": [],
   "source": [
    "prep_df.to_excel(\"Data/preprocessed_data.xlsx\",index=False)\n",
    "data_train.to_excel(\"Data/data_train.xlsx\",index=False)\n",
    "data_test.to_excel(\"Data/data_test.xlsx\",index=False)"
   ]
  },
  {
   "cell_type": "code",
   "execution_count": null,
   "id": "448e4cae",
   "metadata": {},
   "outputs": [],
   "source": []
  }
 ],
 "metadata": {
  "kernelspec": {
   "display_name": "Python 3 (ipykernel)",
   "language": "python",
   "name": "python3"
  },
  "language_info": {
   "codemirror_mode": {
    "name": "ipython",
    "version": 3
   },
   "file_extension": ".py",
   "mimetype": "text/x-python",
   "name": "python",
   "nbconvert_exporter": "python",
   "pygments_lexer": "ipython3",
   "version": "3.11.3"
  }
 },
 "nbformat": 4,
 "nbformat_minor": 5
}
